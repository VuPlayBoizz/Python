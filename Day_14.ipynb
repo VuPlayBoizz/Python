{
 "cells": [
  {
   "cell_type": "code",
   "execution_count": 1,
   "id": "819c0ec3",
   "metadata": {},
   "outputs": [],
   "source": [
    "def ask_ok(prompt, retries=4, reminder='Please try again!'):\n",
    "    while True:\n",
    "        ok = input(prompt)\n",
    "        if ok in ('y', 'ye', 'yes'):\n",
    "            return True\n",
    "        if ok in ('n', 'no', 'nop', 'nope'):\n",
    "            return False\n",
    "        retries = retries - 1\n",
    "        if retries < 0:\n",
    "            raise ValueError('invalid user response')\n",
    "        print(reminder)"
   ]
  },
  {
   "cell_type": "code",
   "execution_count": 9,
   "id": "9200dcea",
   "metadata": {},
   "outputs": [
    {
     "name": "stdout",
     "output_type": "stream",
     "text": [
      "[0, 1, 4, 9, 16, 25, 36, 49, 64, 81]\n"
     ]
    },
    {
     "data": {
      "text/plain": [
       "[(1, 3), (1, 4), (2, 3), (2, 1), (2, 4), (3, 1), (3, 4)]"
      ]
     },
     "execution_count": 9,
     "metadata": {},
     "output_type": "execute_result"
    }
   ],
   "source": [
    "squares = list(map(lambda x: x**2, range(10)))\n",
    "print(squares)\n",
    "[(x, y) for x in [1,2,3] for y in [3,1,4] if x != y]"
   ]
  },
  {
   "cell_type": "code",
   "execution_count": null,
   "id": "4bc61c84",
   "metadata": {},
   "outputs": [],
   "source": [
    "from game_data import data\n",
    "import random\n",
    "from art import logo, vs\n",
    "from replit import clear\n",
    "\n",
    "def get_random_account():\n",
    "  \"\"\"Get data from random account\"\"\"\n",
    "  return random.choice(data)\n",
    "\n",
    "def format_data(account):\n",
    "  \"\"\"Format account into printable format: name, description and country\"\"\"\n",
    "  name = account[\"name\"]\n",
    "  description = account[\"description\"]\n",
    "  country = account[\"country\"]\n",
    "  # print(f'{name}: {account[\"follower_count\"]}')\n",
    "  return f\"{name}, a {description}, from {country}\"\n",
    "\n",
    "def check_answer(guess, a_followers, b_followers):\n",
    "  \"\"\"Checks followers against user's guess \n",
    "  and returns True if they got it right.\n",
    "  Or False if they got it wrong.\"\"\" \n",
    "  if a_followers > b_followers:\n",
    "    return guess == \"a\"\n",
    "  else:\n",
    "    return guess == \"b\"\n",
    "\n",
    "\n",
    "def game():\n",
    "  print(logo)\n",
    "  score = 0\n",
    "  game_should_continue = True\n",
    "  account_a = get_random_account()\n",
    "  account_b = get_random_account()\n",
    "\n",
    "  while game_should_continue:\n",
    "    account_a = account_b\n",
    "    account_b = get_random_account()\n",
    "\n",
    "    while account_a == account_b:\n",
    "      account_b = get_random_account()\n",
    "\n",
    "    print(f\"Compare A: {format_data(account_a)}.\")\n",
    "    print(vs)\n",
    "    print(f\"Against B: {format_data(account_b)}.\")\n",
    "    \n",
    "    guess = input(\"Who has more followers? Type 'A' or 'B': \").lower()\n",
    "    a_follower_count = account_a[\"follower_count\"]\n",
    "    b_follower_count = account_b[\"follower_count\"]\n",
    "    is_correct = check_answer(guess, a_follower_count, b_follower_count)\n",
    "\n",
    "    clear()\n",
    "    print(logo)\n",
    "    if is_correct:\n",
    "      score += 1\n",
    "      print(f\"You're right! Current score: {score}.\")\n",
    "    else:\n",
    "      game_should_continue = False\n",
    "      print(f\"Sorry, that's wrong. Final score: {score}\")\n",
    "\n",
    "game()\n"
   ]
  },
  {
   "cell_type": "code",
   "execution_count": null,
   "id": "4e389703",
   "metadata": {},
   "outputs": [],
   "source": []
  }
 ],
 "metadata": {
  "kernelspec": {
   "display_name": "Python 3 (ipykernel)",
   "language": "python",
   "name": "python3"
  },
  "language_info": {
   "codemirror_mode": {
    "name": "ipython",
    "version": 3
   },
   "file_extension": ".py",
   "mimetype": "text/x-python",
   "name": "python",
   "nbconvert_exporter": "python",
   "pygments_lexer": "ipython3",
   "version": "3.9.13"
  }
 },
 "nbformat": 4,
 "nbformat_minor": 5
}
